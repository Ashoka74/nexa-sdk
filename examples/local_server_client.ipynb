{
 "cells": [
  {
   "cell_type": "code",
   "execution_count": 10,
   "metadata": {},
   "outputs": [],
   "source": [
    "import requests\n",
    "import json"
   ]
  },
  {
   "cell_type": "code",
   "execution_count": 11,
   "metadata": {},
   "outputs": [],
   "source": [
    "# Define the base URL of your FastAPI server\n",
    "base_url = \"http://localhost:8000\"  # Update with your server's address\n",
    "\n",
    "# Define headers with the API key for authentication\n",
    "headers = {\n",
    "    \"Content-Type\": \"application/json\"\n",
    "}\n",
    "\n",
    "\n",
    "def send_completion_request(prompt: str):\n",
    "    url = f\"{base_url}/v1/completions\"\n",
    "    payload = {\n",
    "        \"prompt\": prompt,\n",
    "        \"max_tokens\": 50,\n",
    "        \"temperature\": 0.7\n",
    "    }\n",
    "\n",
    "    response = requests.post(url, json=payload, headers=headers)\n",
    "    if response.status_code == 200:\n",
    "        return response.json()\n",
    "    else:\n",
    "        return {\"error\": response.text}\n",
    "\n",
    "\n",
    "# Function to send a request to /v1/chat/completions\n",
    "def send_chat_completion_request(messages: list):\n",
    "    url = f\"{base_url}/v1/chat/completions\"\n",
    "    payload = {\n",
    "        \"messages\": messages,\n",
    "        \"max_tokens\": 50,  # Adjust the max tokens as needed\n",
    "        \"temperature\": 0.7\n",
    "    }\n",
    "\n",
    "    response = requests.post(url, json=payload, headers=headers)\n",
    "    if response.status_code == 200:\n",
    "        return response.json()\n",
    "    else:\n",
    "        return {\"error\": response.text}"
   ]
  },
  {
   "cell_type": "code",
   "execution_count": 12,
   "metadata": {},
   "outputs": [
    {
     "name": "stdout",
     "output_type": "stream",
     "text": [
      "Completion Response: {\n",
      "  \"id\": \"cmpl-f1e73732-85cf-4075-8bb3-0fb2c7a91d76\",\n",
      "  \"object\": \"text_completion\",\n",
      "  \"created\": 1722623111,\n",
      "  \"model\": \"/home/ubuntu/nexa-sdk/tests/tinyllama-1.1b_q4_0.gguf\",\n",
      "  \"choices\": [\n",
      "    {\n",
      "      \"text\": \" in a small town there lived a farmer who owned a farm with many fields. The farmer was very busy with his daily chores and did not have much time to spend on gardening or planting crops. He had a good har\",\n",
      "      \"index\": 0,\n",
      "      \"logprobs\": null,\n",
      "      \"finish_reason\": \"length\"\n",
      "    }\n",
      "  ],\n",
      "  \"usage\": {\n",
      "    \"prompt_tokens\": 5,\n",
      "    \"completion_tokens\": 50,\n",
      "    \"total_tokens\": 55\n",
      "  }\n",
      "}\n"
     ]
    }
   ],
   "source": [
    "completion_result = send_completion_request(\n",
    "    prompt=\"Once upon a time\"\n",
    ")\n",
    "print(\"Completion Response:\", json.dumps(completion_result, indent=2))"
   ]
  },
  {
   "cell_type": "code",
   "execution_count": 12,
   "metadata": {},
   "outputs": [
    {
     "name": "stdout",
     "output_type": "stream",
     "text": [
      "Completion Response: {\n",
      "  \"id\": \"chatcmpl-6ffe7a67-3cc5-41bc-86eb-f916b2785112\",\n",
      "  \"object\": \"chat.completion\",\n",
      "  \"created\": 1722617088,\n",
      "  \"model\": \"/home/ubuntu/nexa-sdk/tests/tinyllama-1.1b_q4_0.gguf\",\n",
      "  \"choices\": [\n",
      "    {\n",
      "      \"index\": 0,\n",
      "      \"message\": {\n",
      "        \"content\": \"Sure, here's a classic joke:\\n\\nQ: \\\"What do you call a pile of bricks?\\\"\\nA: \\\"A pile of bricks!\\\"\\n\\nNow, this is a classic joke because it\",\n",
      "        \"role\": \"assistant\"\n",
      "      },\n",
      "      \"logprobs\": null,\n",
      "      \"finish_reason\": \"length\"\n",
      "    }\n",
      "  ],\n",
      "  \"usage\": {\n",
      "    \"prompt_tokens\": 38,\n",
      "    \"completion_tokens\": 50,\n",
      "    \"total_tokens\": 88\n",
      "  }\n",
      "}\n"
     ]
    }
   ],
   "source": [
    "chat_completion_result = send_chat_completion_request(\n",
    "    messages=[\n",
    "        {\"role\": \"system\", \"content\": \"You are a helpful assistant.\"},\n",
    "        {\"role\": \"user\", \"content\": \"Tell me a joke.\"}\n",
    "    ]\n",
    ")\n",
    "print(\"Completion Response:\", json.dumps(chat_completion_result, indent=2))"
   ]
  }
 ],
 "metadata": {
  "kernelspec": {
   "display_name": "sdk",
   "language": "python",
   "name": "python3"
  },
  "language_info": {
   "codemirror_mode": {
    "name": "ipython",
    "version": 3
   },
   "file_extension": ".py",
   "mimetype": "text/x-python",
   "name": "python",
   "nbconvert_exporter": "python",
   "pygments_lexer": "ipython3",
   "version": "3.10.0"
  }
 },
 "nbformat": 4,
 "nbformat_minor": 2
}
